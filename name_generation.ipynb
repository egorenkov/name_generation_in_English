{
  "nbformat": 4,
  "nbformat_minor": 0,
  "metadata": {
    "colab": {
      "provenance": []
    },
    "kernelspec": {
      "name": "python3",
      "display_name": "Python 3"
    },
    "language_info": {
      "name": "python"
    }
  },
  "cells": [
    {
      "cell_type": "markdown",
      "source": [
        "# Генерация имен с помощью реккурентной НС"
      ],
      "metadata": {
        "id": "qniXx6SEyMKJ"
      }
    },
    {
      "cell_type": "code",
      "execution_count": 1,
      "metadata": {
        "colab": {
          "base_uri": "https://localhost:8080/"
        },
        "id": "QithDEkKSKXJ",
        "outputId": "a3e6dc59-0c0e-4251-bed1-1077d72b4b02"
      },
      "outputs": [
        {
          "output_type": "stream",
          "name": "stdout",
          "text": [
            "--2025-08-19 07:44:17--  https://raw.githubusercontent.com/girafe-ai/ml-course/23s_msai/week0_10_embeddings_and_seq2seq/names\n",
            "Resolving raw.githubusercontent.com (raw.githubusercontent.com)... 185.199.108.133, 185.199.109.133, 185.199.110.133, ...\n",
            "Connecting to raw.githubusercontent.com (raw.githubusercontent.com)|185.199.108.133|:443... connected.\n",
            "HTTP request sent, awaiting response... 200 OK\n",
            "Length: 55868 (55K) [text/plain]\n",
            "Saving to: ‘names’\n",
            "\n",
            "names               100%[===================>]  54.56K  --.-KB/s    in 0.009s  \n",
            "\n",
            "2025-08-19 07:44:17 (5.81 MB/s) - ‘names’ saved [55868/55868]\n",
            "\n"
          ]
        }
      ],
      "source": [
        "# Uncomment this cell in Colab\n",
        "\n",
        "\n",
        "! wget https://raw.githubusercontent.com/girafe-ai/ml-course/23s_msai/week0_10_embeddings_and_seq2seq/names -O names"
      ]
    },
    {
      "cell_type": "code",
      "source": [
        "start_token = \"<\"\n",
        "last_token = \">\"\n",
        "pad_token = \"_\"\n",
        "\n",
        "\n",
        "names = []\n",
        "\n",
        "with open('names') as f:\n",
        "  for name in f.readlines():\n",
        "    names.append(start_token + name.strip()+ last_token)\n"
      ],
      "metadata": {
        "id": "fv51aJq4SSS5"
      },
      "execution_count": 61,
      "outputs": []
    },
    {
      "cell_type": "code",
      "source": [
        "print(f\"N samples: {len(names)}\")\n",
        "names[::1000]"
      ],
      "metadata": {
        "colab": {
          "base_uri": "https://localhost:8080/"
        },
        "id": "BOgXVSrtSgbO",
        "outputId": "ea98246a-7dd6-4151-f30b-6f691f471a53"
      },
      "execution_count": 62,
      "outputs": [
        {
          "output_type": "stream",
          "name": "stdout",
          "text": [
            "N samples: 7944\n"
          ]
        },
        {
          "output_type": "execute_result",
          "data": {
            "text/plain": [
              "['<Abagael>',\n",
              " '<Claresta>',\n",
              " '<Glory>',\n",
              " '<Liliane>',\n",
              " '<Prissie>',\n",
              " '<Geeta>',\n",
              " '<Giovanne>',\n",
              " '<Piggy>']"
            ]
          },
          "metadata": {},
          "execution_count": 62
        }
      ]
    },
    {
      "cell_type": "code",
      "source": [
        "import matplotlib.pyplot as plt\n",
        "\n",
        "MAX_LENGTH = max(map(len, names))\n",
        "print(f\"Max length is {MAX_LENGTH}\")\n",
        "\n",
        "plt.hist(list(map(len, names)),bins = 30)\n",
        "plt.title('Distribution of name length')\n",
        "plt.show()"
      ],
      "metadata": {
        "colab": {
          "base_uri": "https://localhost:8080/",
          "height": 469
        },
        "id": "q1aBQ7G8S16D",
        "outputId": "7d5eb104-b02a-40b2-c9c8-4fd03faaec12"
      },
      "execution_count": 63,
      "outputs": [
        {
          "output_type": "stream",
          "name": "stdout",
          "text": [
            "Max length is 17\n"
          ]
        },
        {
          "output_type": "display_data",
          "data": {
            "text/plain": [
              "<Figure size 640x480 with 1 Axes>"
            ],
            "image/png": "[encoded data removed]"
          },
          "metadata": {}
        }
      ]
    },
    {
      "cell_type": "code",
      "source": [
        "tokens = set()\n",
        "for name in names:\n",
        "  tokens.update(set(name))\n",
        "\n",
        "tokens.add(pad_token)\n",
        "\n",
        "num_tokens = len(tokens)\n",
        "print(f\"Number of tokens is {num_tokens}\")\n",
        "\n",
        "assert (\n",
        "    50 < num_tokens < 60\n",
        "), \"Names should contain within 50 and 60 unique tokens depending on encoding\""
      ],
      "metadata": {
        "colab": {
          "base_uri": "https://localhost:8080/"
        },
        "id": "57Hh2x9zUM7R",
        "outputId": "a9a83cf8-f290-450b-f968-bcb7dd1dae0f"
      },
      "execution_count": 64,
      "outputs": [
        {
          "output_type": "stream",
          "name": "stdout",
          "text": [
            "Number of tokens is 58\n"
          ]
        }
      ]
    },
    {
      "cell_type": "code",
      "source": [
        "id_to_tokens= list(tokens)\n",
        "tokens_to_id = {token : idx for idx, token in enumerate(id_to_tokens, start = 0)}"
      ],
      "metadata": {
        "id": "HpwSLeL4U88O"
      },
      "execution_count": 65,
      "outputs": []
    },
    {
      "cell_type": "code",
      "source": [
        "for i in range(len(id_to_tokens)):\n",
        "  assert(\n",
        "      tokens_to_id[id_to_tokens[i]] == i,\n",
        "  ) , \"Incorrect initialise id_to_tokens and tokens_to_id\"\n",
        "print('Everything good')"
      ],
      "metadata": {
        "colab": {
          "base_uri": "https://localhost:8080/"
        },
        "id": "xk8_EuTPVqj-",
        "outputId": "ca1fc1aa-480e-426e-e065-8704a43b7cee"
      },
      "execution_count": 66,
      "outputs": [
        {
          "output_type": "stream",
          "name": "stdout",
          "text": [
            "Everything good\n"
          ]
        },
        {
          "output_type": "stream",
          "name": "stderr",
          "text": [
            "<>:2: SyntaxWarning: assertion is always true, perhaps remove parentheses?\n",
            "<>:2: SyntaxWarning: assertion is always true, perhaps remove parentheses?\n",
            "/tmp/ipython-input-4285725162.py:2: SyntaxWarning: assertion is always true, perhaps remove parentheses?\n",
            "  assert(\n"
          ]
        }
      ]
    },
    {
      "cell_type": "code",
      "source": [
        "import numpy as np\n",
        "\n",
        "def to_matrix(\n",
        "    names_batch,\n",
        "    max_len=None,\n",
        "    pad=tokens_to_id[pad_token],\n",
        "    dtype=\"int32\",\n",
        "    batch_first=False,\n",
        "):\n",
        "\n",
        "    max_len = max_len or max(map(len, names_batch))\n",
        "    names_ix = np.zeros([len(names_batch), max_len], dtype) + pad\n",
        "\n",
        "    for i in range(len(names_batch)):\n",
        "        line_ix = [tokens_to_id[c] for c in names_batch[i]][:max_len]\n",
        "        names_ix[i, : len(line_ix)] = line_ix\n",
        "\n",
        "    if not batch_first:\n",
        "        names_ix = np.transpose(names_ix)\n",
        "\n",
        "    return names_ix\n"
      ],
      "metadata": {
        "id": "tzAcDwAOV_s-"
      },
      "execution_count": 95,
      "outputs": []
    },
    {
      "cell_type": "code",
      "source": [
        "print('Batch of names')\n",
        "print(names[::2000])\n",
        "print(\"Matrix batch\")\n",
        "print(to_matrix(names[::2000]).T)"
      ],
      "metadata": {
        "colab": {
          "base_uri": "https://localhost:8080/"
        },
        "id": "v50aexujbNqp",
        "outputId": "73497b36-0a63-4e15-9adc-985166067c4d"
      },
      "execution_count": 96,
      "outputs": [
        {
          "output_type": "stream",
          "name": "stdout",
          "text": [
            "Batch of names\n",
            "['<Abagael>', '<Glory>', '<Prissie>', '<Giovanne>']\n",
            "Matrix batch\n",
            "[[31 40 32  4 52  4 42 13 29  8]\n",
            " [31 15 13 49 12 35 29  8  8  8]\n",
            " [31 27 12 50 51 51 50 42 29  8]\n",
            " [31 15 50 49 48  4 22 22 42 29]]\n"
          ]
        }
      ]
    },
    {
      "cell_type": "code",
      "source": [
        "import torch, torch.nn as nn\n",
        "import torch.nn.functional as F"
      ],
      "metadata": {
        "id": "v8FAKH__bcFQ"
      },
      "execution_count": 97,
      "outputs": []
    },
    {
      "cell_type": "code",
      "source": [
        "class CharRNNCell(nn.Module):\n",
        "\n",
        "    def __init__(self, num_tokens=len(tokens), embedding_size=16, rnn_num_units=64):\n",
        "        super(self.__class__, self).__init__()\n",
        "        self.num_units = rnn_num_units\n",
        "\n",
        "        self.embedding = nn.Embedding(num_tokens, embedding_size)\n",
        "        self.rnn_update = nn.Linear(embedding_size + rnn_num_units, rnn_num_units)\n",
        "        self.rnn_to_logits = nn.Linear(rnn_num_units, num_tokens)\n",
        "\n",
        "    def forward(self, x, h_prev):\n",
        "      x_emb = self.embedding(x)\n",
        "\n",
        "      state = torch.cat([x_emb, h_prev],dim = -1)\n",
        "\n",
        "\n",
        "      x_and_h = torch.cat([x_emb, h_prev], dim=-1)\n",
        "      h_next = self.rnn_update(x_and_h)\n",
        "\n",
        "      h_next = torch.tanh(h_next)\n",
        "\n",
        "      assert h_next.size() == h_prev.size()\n",
        "\n",
        "\n",
        "      logits = self.rnn_to_logits(h_next)\n",
        "\n",
        "      return h_next, logits\n",
        "\n",
        "    def initial_state(self, batch_size):\n",
        "        return torch.zeros(batch_size, self.num_units, requires_grad=True)"
      ],
      "metadata": {
        "id": "1WiGdyESc7Z3"
      },
      "execution_count": 98,
      "outputs": []
    },
    {
      "cell_type": "code",
      "source": [
        "rnnModel = CharRNNCell()"
      ],
      "metadata": {
        "id": "VdeDeQ3hdwoF"
      },
      "execution_count": 99,
      "outputs": []
    },
    {
      "cell_type": "code",
      "source": [
        "def rnn_loop(char_rnn, batch_ix):\n",
        "\n",
        "    max_length, batch_size = batch_ix.size()\n",
        "    hid_state = char_rnn.initial_state(batch_size)\n",
        "    all_logits = []\n",
        "\n",
        "    for x_t in batch_ix:\n",
        "        hid_state, logits_next = char_rnn(\n",
        "            x_t, hid_state\n",
        "        )\n",
        "        all_logits.append(logits_next)\n",
        "\n",
        "    return torch.stack(all_logits, dim=1)"
      ],
      "metadata": {
        "id": "wCwFWZhEh22q"
      },
      "execution_count": 100,
      "outputs": []
    },
    {
      "cell_type": "code",
      "source": [
        "from IPython.display import clear_output\n",
        "from random import sample\n",
        "import tqdm"
      ],
      "metadata": {
        "id": "2dQAuevWi7Bf"
      },
      "execution_count": 101,
      "outputs": []
    },
    {
      "cell_type": "code",
      "source": [
        "def train(model, loss_func, iter = 1000 ,optim = torch.optim.Adam , MAX_LENGTH = 16):\n",
        "  history = []\n",
        "  opt = optim(model.parameters())\n",
        "\n",
        "  for i in tqdm.tqdm(range(iter)):\n",
        "    opt.zero_grad()\n",
        "    batch_ix = to_matrix(sample(names, 32), max_len=MAX_LENGTH)\n",
        "    batch_ix = torch.tensor(batch_ix, dtype=torch.int64)\n",
        "\n",
        "    all_logits = rnn_loop(model, batch_ix)\n",
        "\n",
        "    actual_next_tokens = batch_ix[1:, :].T\n",
        "\n",
        "    pred_logits = all_logits[:, :-1, :]\n",
        "    pred_logits_flattened = pred_logits.reshape(\n",
        "        (pred_logits.shape[0] * pred_logits.shape[1], -1)\n",
        "    )\n",
        "    actual_next_tokens_flattened = actual_next_tokens.reshape(-1)\n",
        "    loss = loss_func(pred_logits_flattened, actual_next_tokens_flattened)\n",
        "\n",
        "    loss.backward()\n",
        "    opt.step()\n",
        "\n",
        "    history.append(loss.item())\n",
        "    if (i + 1) % 100 == 0:\n",
        "        clear_output(True)\n",
        "        plt.plot(history, label=\"loss\")\n",
        "        plt.legend()\n",
        "        plt.show()\n",
        "\n",
        "  assert np.mean(history[:10]) > np.mean(history[-10:]), \"RNN didn't converge.\"\n",
        "\n"
      ],
      "metadata": {
        "id": "IIvPe0ZCivPJ"
      },
      "execution_count": 104,
      "outputs": []
    },
    {
      "cell_type": "code",
      "source": [
        "loss_func = nn.CrossEntropyLoss(ignore_index=tokens_to_id[pad_token])\n",
        "\n",
        "train(rnnModel, loss_func)"
      ],
      "metadata": {
        "colab": {
          "base_uri": "https://localhost:8080/",
          "height": 447
        },
        "id": "wnwA0iR9kZx4",
        "outputId": "b611483f-7e81-4c10-b2f0-130de1fbe71c"
      },
      "execution_count": 105,
      "outputs": [
        {
          "output_type": "display_data",
          "data": {
            "text/plain": [
              "<Figure size 640x480 with 1 Axes>"
            ],
            "image/png": "[encoded data removed]"
          },
          "metadata": {}
        },
        {
          "output_type": "stream",
          "name": "stderr",
          "text": [
            "\r100%|██████████| 1000/1000 [00:06<00:00, 162.33it/s]\n"
          ]
        }
      ]
    },
    {
      "cell_type": "code",
      "source": [
        "def pretty_word(word):\n",
        "  return word.replace('<', '').split('>')[0]\n",
        "\n",
        "\n",
        "def generate_name(model, start_phrase = \"<\" , max_length = 16,  temperature=1.0, pretty = True):\n",
        "\n",
        "  x_seq = [tokens_to_id[c] for c in start_phrase]\n",
        "  x_seq = torch.tensor([x_seq], dtype=torch.int64)\n",
        "  hid_state = model.initial_state(batch_size = 1)\n",
        "\n",
        "  #feed\n",
        "  for _ in range(len(x_seq) -1):\n",
        "    hid_state, _ = model(x_seq[:, i], hid_state)\n",
        "\n",
        "  for i in range(max_length - len(x_seq)):\n",
        "    hid_state, logit = model(x_seq[:,-1], hid_state)\n",
        "    p_next = F.softmax(logit / temperature, dim = -1).data.numpy()[0]\n",
        "\n",
        "    next_ix = np.random.choice(num_tokens, p=p_next)\n",
        "    next_ix = torch.tensor([[next_ix]], dtype=torch.int64)\n",
        "    x_seq = torch.cat([x_seq, next_ix], dim=1)\n",
        "\n",
        "  output = \"\".join([id_to_tokens[idx] for idx in x_seq.data.numpy()[0]])\n",
        "\n",
        "  if pretty:\n",
        "    return pretty_word(output)\n",
        "  return output\n",
        "\n"
      ],
      "metadata": {
        "id": "Y9KWpto_mzOz"
      },
      "execution_count": 125,
      "outputs": []
    },
    {
      "cell_type": "markdown",
      "source": [
        "Пример генерации (с начального символа '<')"
      ],
      "metadata": {
        "id": "3Uc1NrdQyYpt"
      }
    },
    {
      "cell_type": "code",
      "source": [
        "for _ in range(10):\n",
        "  print(generate_name(rnnModel))"
      ],
      "metadata": {
        "colab": {
          "base_uri": "https://localhost:8080/"
        },
        "id": "IAEUAL5UpAb-",
        "outputId": "2120e141-2442-4efc-9230-9edd1164b075"
      },
      "execution_count": 126,
      "outputs": [
        {
          "output_type": "stream",
          "name": "stdout",
          "text": [
            "Lylvaan\n",
            "Brina\n",
            "Kari\n",
            "Lionaak\n",
            "Edenna\n",
            "Laona\n",
            "Delli\n",
            "Baudey\n",
            "Batwie\n",
            "Manise\n"
          ]
        }
      ]
    },
    {
      "cell_type": "markdown",
      "source": [
        "Пример генерации начиная с \"Al\" и темпиратурой 1.5"
      ],
      "metadata": {
        "id": "0mgIDLJtyiUT"
      }
    },
    {
      "cell_type": "code",
      "source": [
        "for _ in range(10):\n",
        "  print(generate_name(rnnModel, start_phrase=\"Al\", temperature=1.5))"
      ],
      "metadata": {
        "colab": {
          "base_uri": "https://localhost:8080/"
        },
        "id": "AScJ9cvTrrnr",
        "outputId": "58542092-8f3d-4c40-ee94-db4a5c06d7cf"
      },
      "execution_count": 127,
      "outputs": [
        {
          "output_type": "stream",
          "name": "stdout",
          "text": [
            "AlJhuei\n",
            "Alukher\n",
            "AlYhaydirpy\n",
            "Aliavore-DoOnes\n",
            "Almylse\n",
            "Alhzemioma\n",
            "AlFShiri\n",
            "AlUny\n",
            "AlTo\n",
            "AlGice\n"
          ]
        }
      ]
    },
    {
      "cell_type": "code",
      "source": [],
      "metadata": {
        "id": "xIQNnaBhtAIt"
      },
      "execution_count": null,
      "outputs": []
    }
  ]
}